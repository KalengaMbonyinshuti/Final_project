{
 "cells": [
  {
   "cell_type": "code",
   "execution_count": 1,
   "id": "c0043bf6",
   "metadata": {},
   "outputs": [],
   "source": [
    "import numpy as np\n",
    "import pandas as pd\n",
    "import matplotlib.pyplot as plt\n",
    "import seaborn as sns\n",
    "from sklearn.ensemble import RandomForestRegressor\n",
    "from sklearn.preprocessing import LabelEncoder, StandardScaler\n",
    "from sklearn.model_selection import train_test_split\n",
    "from sklearn.metrics import (mean_squared_error, r2_score, confusion_matrix,\n",
    "cohen_kappa_score, accuracy_score, mean_absolute_error)\n",
    "from sklearn.ensemble import GradientBoostingRegressor\n",
    "from sklearn.linear_model import LinearRegression\n",
    "import plotly.express as px\n",
    "from sklearn.preprocessing import StandardScaler\n",
    "import pickle\n",
    "import yaml"
   ]
  },
  {
   "cell_type": "code",
   "execution_count": 2,
   "id": "a7cfd381",
   "metadata": {},
   "outputs": [],
   "source": [
    "with open(\"../params.yaml\", \"r\") as file:\n",
    "    config = yaml.safe_load(file)"
   ]
  },
  {
   "cell_type": "code",
   "execution_count": 3,
   "id": "1ce6d87a",
   "metadata": {},
   "outputs": [
    {
     "data": {
      "text/html": [
       "<div>\n",
       "<style scoped>\n",
       "    .dataframe tbody tr th:only-of-type {\n",
       "        vertical-align: middle;\n",
       "    }\n",
       "\n",
       "    .dataframe tbody tr th {\n",
       "        vertical-align: top;\n",
       "    }\n",
       "\n",
       "    .dataframe thead th {\n",
       "        text-align: right;\n",
       "    }\n",
       "</style>\n",
       "<table border=\"1\" class=\"dataframe\">\n",
       "  <thead>\n",
       "    <tr style=\"text-align: right;\">\n",
       "      <th></th>\n",
       "      <th>bike_name</th>\n",
       "      <th>price</th>\n",
       "      <th>city</th>\n",
       "      <th>kms_driven</th>\n",
       "      <th>owner</th>\n",
       "      <th>age</th>\n",
       "      <th>power</th>\n",
       "      <th>brand</th>\n",
       "    </tr>\n",
       "  </thead>\n",
       "  <tbody>\n",
       "    <tr>\n",
       "      <th>0</th>\n",
       "      <td>TVS Star City Plus Dual Tone 110cc</td>\n",
       "      <td>35000.0</td>\n",
       "      <td>Ahmedabad</td>\n",
       "      <td>17654.0</td>\n",
       "      <td>First Owner</td>\n",
       "      <td>3.0</td>\n",
       "      <td>110.0</td>\n",
       "      <td>TVS</td>\n",
       "    </tr>\n",
       "    <tr>\n",
       "      <th>1</th>\n",
       "      <td>Royal Enfield Classic 350cc</td>\n",
       "      <td>119900.0</td>\n",
       "      <td>Delhi</td>\n",
       "      <td>11000.0</td>\n",
       "      <td>First Owner</td>\n",
       "      <td>4.0</td>\n",
       "      <td>350.0</td>\n",
       "      <td>Royal Enfield</td>\n",
       "    </tr>\n",
       "    <tr>\n",
       "      <th>2</th>\n",
       "      <td>Triumph Daytona 675R</td>\n",
       "      <td>600000.0</td>\n",
       "      <td>Delhi</td>\n",
       "      <td>110.0</td>\n",
       "      <td>First Owner</td>\n",
       "      <td>8.0</td>\n",
       "      <td>675.0</td>\n",
       "      <td>Triumph</td>\n",
       "    </tr>\n",
       "    <tr>\n",
       "      <th>3</th>\n",
       "      <td>TVS Apache RTR 180cc</td>\n",
       "      <td>65000.0</td>\n",
       "      <td>Bangalore</td>\n",
       "      <td>16329.0</td>\n",
       "      <td>First Owner</td>\n",
       "      <td>4.0</td>\n",
       "      <td>180.0</td>\n",
       "      <td>TVS</td>\n",
       "    </tr>\n",
       "    <tr>\n",
       "      <th>4</th>\n",
       "      <td>Yamaha FZ S V 2.0 150cc-Ltd. Edition</td>\n",
       "      <td>80000.0</td>\n",
       "      <td>Bangalore</td>\n",
       "      <td>10000.0</td>\n",
       "      <td>First Owner</td>\n",
       "      <td>3.0</td>\n",
       "      <td>150.0</td>\n",
       "      <td>Yamaha</td>\n",
       "    </tr>\n",
       "    <tr>\n",
       "      <th>...</th>\n",
       "      <td>...</td>\n",
       "      <td>...</td>\n",
       "      <td>...</td>\n",
       "      <td>...</td>\n",
       "      <td>...</td>\n",
       "      <td>...</td>\n",
       "      <td>...</td>\n",
       "      <td>...</td>\n",
       "    </tr>\n",
       "    <tr>\n",
       "      <th>7309</th>\n",
       "      <td>Hero Hunk Rear Disc 150cc</td>\n",
       "      <td>25000.0</td>\n",
       "      <td>Delhi</td>\n",
       "      <td>48587.0</td>\n",
       "      <td>First Owner</td>\n",
       "      <td>8.0</td>\n",
       "      <td>150.0</td>\n",
       "      <td>Hero</td>\n",
       "    </tr>\n",
       "    <tr>\n",
       "      <th>7310</th>\n",
       "      <td>Bajaj Avenger 220cc</td>\n",
       "      <td>35000.0</td>\n",
       "      <td>Bangalore</td>\n",
       "      <td>60000.0</td>\n",
       "      <td>First Owner</td>\n",
       "      <td>9.0</td>\n",
       "      <td>220.0</td>\n",
       "      <td>Bajaj</td>\n",
       "    </tr>\n",
       "    <tr>\n",
       "      <th>7311</th>\n",
       "      <td>Harley-Davidson Street 750 ABS</td>\n",
       "      <td>450000.0</td>\n",
       "      <td>Jodhpur</td>\n",
       "      <td>3430.0</td>\n",
       "      <td>First Owner</td>\n",
       "      <td>4.0</td>\n",
       "      <td>750.0</td>\n",
       "      <td>Harley-Davidson</td>\n",
       "    </tr>\n",
       "    <tr>\n",
       "      <th>7312</th>\n",
       "      <td>Bajaj Dominar 400 ABS</td>\n",
       "      <td>139000.0</td>\n",
       "      <td>Hyderabad</td>\n",
       "      <td>21300.0</td>\n",
       "      <td>First Owner</td>\n",
       "      <td>4.0</td>\n",
       "      <td>400.0</td>\n",
       "      <td>Bajaj</td>\n",
       "    </tr>\n",
       "    <tr>\n",
       "      <th>7313</th>\n",
       "      <td>Bajaj Avenger Street 220</td>\n",
       "      <td>80000.0</td>\n",
       "      <td>Hyderabad</td>\n",
       "      <td>7127.0</td>\n",
       "      <td>First Owner</td>\n",
       "      <td>5.0</td>\n",
       "      <td>220.0</td>\n",
       "      <td>Bajaj</td>\n",
       "    </tr>\n",
       "  </tbody>\n",
       "</table>\n",
       "<p>7314 rows × 8 columns</p>\n",
       "</div>"
      ],
      "text/plain": [
       "                                 bike_name     price       city  kms_driven  \\\n",
       "0       TVS Star City Plus Dual Tone 110cc   35000.0  Ahmedabad     17654.0   \n",
       "1              Royal Enfield Classic 350cc  119900.0      Delhi     11000.0   \n",
       "2                     Triumph Daytona 675R  600000.0      Delhi       110.0   \n",
       "3                     TVS Apache RTR 180cc   65000.0  Bangalore     16329.0   \n",
       "4     Yamaha FZ S V 2.0 150cc-Ltd. Edition   80000.0  Bangalore     10000.0   \n",
       "...                                    ...       ...        ...         ...   \n",
       "7309             Hero Hunk Rear Disc 150cc   25000.0      Delhi     48587.0   \n",
       "7310                   Bajaj Avenger 220cc   35000.0  Bangalore     60000.0   \n",
       "7311        Harley-Davidson Street 750 ABS  450000.0    Jodhpur      3430.0   \n",
       "7312                 Bajaj Dominar 400 ABS  139000.0  Hyderabad     21300.0   \n",
       "7313              Bajaj Avenger Street 220   80000.0  Hyderabad      7127.0   \n",
       "\n",
       "            owner  age  power            brand  \n",
       "0     First Owner  3.0  110.0              TVS  \n",
       "1     First Owner  4.0  350.0    Royal Enfield  \n",
       "2     First Owner  8.0  675.0          Triumph  \n",
       "3     First Owner  4.0  180.0              TVS  \n",
       "4     First Owner  3.0  150.0           Yamaha  \n",
       "...           ...  ...    ...              ...  \n",
       "7309  First Owner  8.0  150.0             Hero  \n",
       "7310  First Owner  9.0  220.0            Bajaj  \n",
       "7311  First Owner  4.0  750.0  Harley-Davidson  \n",
       "7312  First Owner  4.0  400.0            Bajaj  \n",
       "7313  First Owner  5.0  220.0            Bajaj  \n",
       "\n",
       "[7314 rows x 8 columns]"
      ]
     },
     "execution_count": 3,
     "metadata": {},
     "output_type": "execute_result"
    }
   ],
   "source": [
    "data=pd.read_csv(config['data']['CLEAN']+'final_data.csv')\n",
    "data"
   ]
  },
  {
   "cell_type": "markdown",
   "id": "b15e2334",
   "metadata": {},
   "source": [
    "# 1 Model: Random Forest"
   ]
  },
  {
   "cell_type": "code",
   "execution_count": 4,
   "id": "b0a92b06",
   "metadata": {},
   "outputs": [
    {
     "name": "stdout",
     "output_type": "stream",
     "text": [
      "Train R^2 score: 0.98\n",
      "Test R^2 score: 0.89\n"
     ]
    }
   ],
   "source": [
    "# separate categorical and numerical variables\n",
    "cat_cols = ['power', 'city', 'owner']\n",
    "num_cols = ['age', 'kms_driven']\n",
    "\n",
    "# convert categorical variables to numerical using one-hot encoding\n",
    "X_cat = pd.get_dummies(data[cat_cols], drop_first=True)\n",
    "X_cat.reset_index(drop=True, inplace=True)\n",
    "\n",
    "# scale numerical variables\n",
    "scaler = StandardScaler()\n",
    "X_num = scaler.fit_transform(data[num_cols])\n",
    "X_num = pd.DataFrame(X_num, columns=num_cols)\n",
    "X_num.reset_index(drop=True, inplace=True)\n",
    "\n",
    "# Save the transformer with a pickle file\n",
    "with open(\"../Scalers/StandardScaler.pkl\", \"wb\") as file:\n",
    "    pickle.dump(scaler, file)\n",
    "\n",
    "# merge categorical and numerical variables on index\n",
    "X = X_cat.join(X_num)\n",
    "\n",
    "# target variable\n",
    "y = data['price']\n",
    "\n",
    "# split data into train and test sets\n",
    "X_train, X_test, y_train, y_test = train_test_split(X, y, test_size=config['train']['test_size'],random_state=config['train']['random_state'])\n",
    "\n",
    "# initialize a random forest regression model\n",
    "rf_model = RandomForestRegressor(n_estimators=100, random_state=42)\n",
    "with open(\"../Models/RandomForestRegressor.pkl\", \"wb\") as file:\n",
    "    pickle.dump(rf_model, file)\n",
    "\n",
    "# train the model\n",
    "rf_model.fit(X_train, y_train)\n",
    "\n",
    "y_train_pred = rf_model.predict(X_train)\n",
    "y_test_pred = rf_model.predict(X_test)\n",
    "\n",
    "# evaluate the model using R^2 score, accuracy and kappa\n",
    "r2_train = r2_score(y_train, y_train_pred)\n",
    "r2_test = r2_score(y_test, y_test_pred)\n",
    "\n",
    "\n",
    "print(f\"Train R^2 score: {round(r2_train, 2)}\")\n",
    "print(f\"Test R^2 score: {round(r2_test, 2)}\")\n"
   ]
  },
  {
   "cell_type": "code",
   "execution_count": 5,
   "id": "22814bff",
   "metadata": {},
   "outputs": [
    {
     "data": {
      "text/html": [
       "<div>\n",
       "<style scoped>\n",
       "    .dataframe tbody tr th:only-of-type {\n",
       "        vertical-align: middle;\n",
       "    }\n",
       "\n",
       "    .dataframe tbody tr th {\n",
       "        vertical-align: top;\n",
       "    }\n",
       "\n",
       "    .dataframe thead th {\n",
       "        text-align: right;\n",
       "    }\n",
       "</style>\n",
       "<table border=\"1\" class=\"dataframe\">\n",
       "  <thead>\n",
       "    <tr style=\"text-align: right;\">\n",
       "      <th></th>\n",
       "      <th>Predictions_random</th>\n",
       "    </tr>\n",
       "  </thead>\n",
       "  <tbody>\n",
       "    <tr>\n",
       "      <th>0</th>\n",
       "      <td>1.207700e+05</td>\n",
       "    </tr>\n",
       "    <tr>\n",
       "      <th>1</th>\n",
       "      <td>3.941100e+04</td>\n",
       "    </tr>\n",
       "    <tr>\n",
       "      <th>2</th>\n",
       "      <td>2.017400e+04</td>\n",
       "    </tr>\n",
       "    <tr>\n",
       "      <th>3</th>\n",
       "      <td>4.753600e+04</td>\n",
       "    </tr>\n",
       "    <tr>\n",
       "      <th>4</th>\n",
       "      <td>1.575699e+04</td>\n",
       "    </tr>\n",
       "    <tr>\n",
       "      <th>...</th>\n",
       "      <td>...</td>\n",
       "    </tr>\n",
       "    <tr>\n",
       "      <th>1458</th>\n",
       "      <td>7.543300e+05</td>\n",
       "    </tr>\n",
       "    <tr>\n",
       "      <th>1459</th>\n",
       "      <td>3.928660e+04</td>\n",
       "    </tr>\n",
       "    <tr>\n",
       "      <th>1460</th>\n",
       "      <td>1.092963e+05</td>\n",
       "    </tr>\n",
       "    <tr>\n",
       "      <th>1461</th>\n",
       "      <td>1.101440e+06</td>\n",
       "    </tr>\n",
       "    <tr>\n",
       "      <th>1462</th>\n",
       "      <td>1.940845e+04</td>\n",
       "    </tr>\n",
       "  </tbody>\n",
       "</table>\n",
       "<p>1463 rows × 1 columns</p>\n",
       "</div>"
      ],
      "text/plain": [
       "      Predictions_random\n",
       "0           1.207700e+05\n",
       "1           3.941100e+04\n",
       "2           2.017400e+04\n",
       "3           4.753600e+04\n",
       "4           1.575699e+04\n",
       "...                  ...\n",
       "1458        7.543300e+05\n",
       "1459        3.928660e+04\n",
       "1460        1.092963e+05\n",
       "1461        1.101440e+06\n",
       "1462        1.940845e+04\n",
       "\n",
       "[1463 rows x 1 columns]"
      ]
     },
     "execution_count": 5,
     "metadata": {},
     "output_type": "execute_result"
    }
   ],
   "source": [
    "y_pred = rf_model.predict(X_test)\n",
    "pred_df = pd.DataFrame(y_pred, columns=['Predictions_random'])\n",
    "pred_df"
   ]
  },
  {
   "cell_type": "code",
   "execution_count": 6,
   "id": "a98d62e1",
   "metadata": {},
   "outputs": [
    {
     "name": "stdout",
     "output_type": "stream",
     "text": [
      "R^2 score: 0.89\n"
     ]
    }
   ],
   "source": [
    "# Evaluate model\n",
    "# evaluate the model using R^2 score\n",
    "r2 = r2_score(y_test, y_pred)\n",
    "print(f\"R^2 score: {round(r2,2)}\")"
   ]
  },
  {
   "cell_type": "code",
   "execution_count": 7,
   "id": "b527ebfa",
   "metadata": {},
   "outputs": [],
   "source": [
    "# Random vs Y value"
   ]
  },
  {
   "cell_type": "code",
   "execution_count": 8,
   "id": "207c684e",
   "metadata": {},
   "outputs": [
    {
     "data": {
      "image/png": "[encoded data removed]",
      "text/plain": [
       "<Figure size 640x480 with 1 Axes>"
      ]
     },
     "metadata": {},
     "output_type": "display_data"
    }
   ],
   "source": [
    "# Create a scatter plot of actual values\n",
    "fig, ax = plt.subplots()\n",
    "ax.plot(y_test, y_test, alpha=0.5, c='blue', label='Actual')\n",
    "\n",
    "# Create a scatter plot of predicted values\n",
    "ax.scatter(y_test, y_pred, alpha=0.5, c='red', label='Predicted')\n",
    "\n",
    "# Add labels and title\n",
    "plt.title(\"Predicted vs Actual Values\")\n",
    "plt.xlabel(\"Actual Values\")\n",
    "plt.ylabel(\"Predicted Values\")\n",
    "\n",
    "# Add legend\n",
    "plt.legend()\n",
    "plt.show()"
   ]
  },
  {
   "cell_type": "code",
   "execution_count": 9,
   "id": "93d924a1",
   "metadata": {},
   "outputs": [
    {
     "name": "stdout",
     "output_type": "stream",
     "text": [
      "MAE as a percentage of the mean of actual values: 18.0%\n",
      "MSE as a percentage of the mean of actual values: 2104758.0%\n",
      "RMSE as a percentage of the mean of actual values: 50.0%\n",
      "MAPE value is : 19.44%\n"
     ]
    }
   ],
   "source": [
    "# mae = mean_absolute_error(y_test, y_pred)\n",
    "# print(f\"MAE: {mae}\")\n",
    "\n",
    "# # calculate mean squared error (MSE)\n",
    "# mse = mean_squared_error(y_test, y_pred)\n",
    "# print(f\"MSE: {mse}\")\n",
    "\n",
    "# # calculate root mean squared error (RMSE)\n",
    "# rmse = np.sqrt(mse)\n",
    "# print(f\"RMSE: {rmse}\")\n",
    "\n",
    "# calculate mean absolute error (MAE) as a percentage of the mean of actual values\n",
    "mae = mean_absolute_error(y_test, y_pred)\n",
    "mae_percent = round(mae / np.mean(y_test) * 100, 0)\n",
    "print(f\"MAE as a percentage of the mean of actual values: {mae_percent}%\")\n",
    "\n",
    "# calculate mean squared error (MSE) as a percentage of the mean of actual values\n",
    "mse = mean_squared_error(y_test, y_pred)\n",
    "mse_percent = round(mse / np.mean(y_test) * 100, 0)\n",
    "print(f\"MSE as a percentage of the mean of actual values: {mse_percent}%\")\n",
    "\n",
    "# calculate root mean squared error (RMSE) as a percentage of the mean of actual values\n",
    "rmse = np.sqrt(mse)\n",
    "rmse_percent = round(rmse / np.mean(y_test) * 100, 0)\n",
    "print(f\"RMSE as a percentage of the mean of actual values: {rmse_percent}%\")\n",
    "\n",
    "\n",
    "# MAPE ( mean absolute percentage error (MAPE)\n",
    "mape_test = np.mean((np.abs(y_test - y_pred)/y_test)*100,0)\n",
    "print(f\"MAPE value is : {round(mape_test,2)}%\")"
   ]
  },
  {
   "cell_type": "markdown",
   "id": "8c3f0542",
   "metadata": {},
   "source": [
    "# 2 Model: Linear Regression"
   ]
  },
  {
   "cell_type": "code",
   "execution_count": null,
   "id": "1dd2715e",
   "metadata": {},
   "outputs": [],
   "source": []
  },
  {
   "cell_type": "code",
   "execution_count": 10,
   "id": "53efb265",
   "metadata": {},
   "outputs": [
    {
     "name": "stdout",
     "output_type": "stream",
     "text": [
      "Train MSE: 4430359979.88\n",
      "Test MSE: 1.142144686271681e+27\n",
      "Train R^2 score: 0.68\n",
      "Test R^2 score: -7.029414468304563e+16\n"
     ]
    }
   ],
   "source": [
    "# separate categorical and numerical variables\n",
    "cat_cols = ['power', 'city', 'owner']\n",
    "#cat_cols = ['power', 'city', 'owner']\n",
    "num_cols = ['age', 'kms_driven']\n",
    "\n",
    "# convert categorical variables to numerical using one-hot encoding\n",
    "X_cat = pd.get_dummies(data[cat_cols], drop_first=True)\n",
    "X_cat.reset_index(drop=True, inplace=True)\n",
    "\n",
    "# scale numerical variables\n",
    "scaler = StandardScaler()\n",
    "X_num = scaler.fit_transform(data[num_cols])\n",
    "X_num = pd.DataFrame(X_num, columns=num_cols)\n",
    "X_num.reset_index(drop=True, inplace=True)\n",
    "\n",
    "# merge categorical and numerical variables on index\n",
    "X = X_cat.join(X_num)\n",
    "\n",
    "\n",
    "# target variable\n",
    "y = data['price']\n",
    "\n",
    "# split data into train and test sets\n",
    "X_train, X_test, y_train, y_test = train_test_split(X, y, test_size=config['train']['test_size'],random_state=config['train']['random_state'])\n",
    "\n",
    "# initialize a linear regression model\n",
    "lr_model = LinearRegression()\n",
    "with open(\"../Models/LinearRegression.pkl\", \"wb\") as file:\n",
    "    pickle.dump(lr_model, file)\n",
    "# train the model\n",
    "lr_model.fit(X_train, y_train)\n",
    "\n",
    "# make predictions on train and test sets\n",
    "y_train_pred_lr = lr_model.predict(X_train)\n",
    "y_test_pred_lr = lr_model.predict(X_test)\n",
    "\n",
    "# evaluate the model using MSE and R-squared score\n",
    "mse_train = mean_squared_error(y_train, y_train_pred_lr)\n",
    "mse_test = mean_squared_error(y_test, y_test_pred_lr)\n",
    "\n",
    "r2_train = r2_score(y_train, y_train_pred_lr)\n",
    "r2_test = r2_score(y_test, y_test_pred_lr)\n",
    "\n",
    "print(f\"Train MSE: {round(mse_train, 2)}\")\n",
    "print(f\"Test MSE: {round(mse_test, 2)}\")\n",
    "print(f\"Train R^2 score: {round(r2_train, 2)}\")\n",
    "print(f\"Test R^2 score: {round(r2_test, 2)}\")"
   ]
  },
  {
   "cell_type": "code",
   "execution_count": 11,
   "id": "7f0564e4",
   "metadata": {},
   "outputs": [
    {
     "data": {
      "text/html": [
       "<div>\n",
       "<style scoped>\n",
       "    .dataframe tbody tr th:only-of-type {\n",
       "        vertical-align: middle;\n",
       "    }\n",
       "\n",
       "    .dataframe tbody tr th {\n",
       "        vertical-align: top;\n",
       "    }\n",
       "\n",
       "    .dataframe thead th {\n",
       "        text-align: right;\n",
       "    }\n",
       "</style>\n",
       "<table border=\"1\" class=\"dataframe\">\n",
       "  <thead>\n",
       "    <tr style=\"text-align: right;\">\n",
       "      <th></th>\n",
       "      <th>Predictions_lr</th>\n",
       "    </tr>\n",
       "  </thead>\n",
       "  <tbody>\n",
       "    <tr>\n",
       "      <th>0</th>\n",
       "      <td>119869.245061</td>\n",
       "    </tr>\n",
       "    <tr>\n",
       "      <th>1</th>\n",
       "      <td>66950.909202</td>\n",
       "    </tr>\n",
       "    <tr>\n",
       "      <th>2</th>\n",
       "      <td>17126.966078</td>\n",
       "    </tr>\n",
       "    <tr>\n",
       "      <th>3</th>\n",
       "      <td>83651.883599</td>\n",
       "    </tr>\n",
       "    <tr>\n",
       "      <th>4</th>\n",
       "      <td>-22936.478621</td>\n",
       "    </tr>\n",
       "    <tr>\n",
       "      <th>...</th>\n",
       "      <td>...</td>\n",
       "    </tr>\n",
       "    <tr>\n",
       "      <th>1458</th>\n",
       "      <td>495158.379839</td>\n",
       "    </tr>\n",
       "    <tr>\n",
       "      <th>1459</th>\n",
       "      <td>35023.688027</td>\n",
       "    </tr>\n",
       "    <tr>\n",
       "      <th>1460</th>\n",
       "      <td>155309.945801</td>\n",
       "    </tr>\n",
       "    <tr>\n",
       "      <th>1461</th>\n",
       "      <td>660270.684545</td>\n",
       "    </tr>\n",
       "    <tr>\n",
       "      <th>1462</th>\n",
       "      <td>-15174.612328</td>\n",
       "    </tr>\n",
       "  </tbody>\n",
       "</table>\n",
       "<p>1463 rows × 1 columns</p>\n",
       "</div>"
      ],
      "text/plain": [
       "      Predictions_lr\n",
       "0      119869.245061\n",
       "1       66950.909202\n",
       "2       17126.966078\n",
       "3       83651.883599\n",
       "4      -22936.478621\n",
       "...              ...\n",
       "1458   495158.379839\n",
       "1459    35023.688027\n",
       "1460   155309.945801\n",
       "1461   660270.684545\n",
       "1462   -15174.612328\n",
       "\n",
       "[1463 rows x 1 columns]"
      ]
     },
     "execution_count": 11,
     "metadata": {},
     "output_type": "execute_result"
    }
   ],
   "source": [
    "y_pred_lr = lr_model.predict(X_test)\n",
    "pred_df_lr = pd.DataFrame(y_pred_lr, columns=['Predictions_lr'])\n",
    "pred_df_lr"
   ]
  },
  {
   "cell_type": "code",
   "execution_count": 12,
   "id": "3cd825da",
   "metadata": {},
   "outputs": [],
   "source": [
    "# Linear Regression with y_test"
   ]
  },
  {
   "cell_type": "code",
   "execution_count": 34,
   "id": "842e622c",
   "metadata": {},
   "outputs": [],
   "source": [
    "# import matplotlib.pyplot as plt\n",
    "\n",
    "# # Create a scatter plot of actual values\n",
    "# fig, ax = plt.subplots()\n",
    "# ax.plot(y_test, y_test, alpha=0.5, c='blue', label='Actual')\n",
    "\n",
    "# # Create a scatter plot of predicted values\n",
    "# ax.scatter(y_test, y_pred_lr, alpha=0.5, c='red', label='Predicted')\n",
    "\n",
    "# # Add labels and title\n",
    "# plt.title(\"Predicted vs Actual Values\")\n",
    "# plt.xlabel(\"Actual Values\")\n",
    "# plt.ylabel(\"Predicted Values\")\n",
    "\n",
    "# # Add legend\n",
    "# plt.legend()\n",
    "# plt.show()\n"
   ]
  },
  {
   "cell_type": "code",
   "execution_count": 35,
   "id": "d9b120cc",
   "metadata": {},
   "outputs": [
    {
     "data": {
      "image/png": "[encoded data removed]",
      "text/plain": [
       "<Figure size 640x480 with 1 Axes>"
      ]
     },
     "metadata": {},
     "output_type": "display_data"
    }
   ],
   "source": [
    "# Create a scatter plot of actual values\n",
    "fig, ax = plt.subplots()\n",
    "ax.plot(y_test, y_test, alpha=0.5, c='blue', label='Actual')\n",
    "\n",
    "# Create a scatter plot of predicted values\n",
    "ax.scatter(y_test, y_pred_lr, alpha=0.5, c='red', label='Predicted')\n",
    "\n",
    "# Add labels and title\n",
    "plt.title(\"Predicted vs Actual Values\")\n",
    "plt.xlabel(\"Actual Values\")\n",
    "plt.ylabel(\"Predicted Values\")\n",
    "\n",
    "# Add legend\n",
    "plt.legend()\n",
    "plt.show()"
   ]
  },
  {
   "cell_type": "code",
   "execution_count": 14,
   "id": "3226be8a",
   "metadata": {},
   "outputs": [],
   "source": [
    "# fig = px.scatter(grouped_km, x='kms_driven', y='price', title='Average Price by Kms Driven')\n",
    "# fig.update_xaxes(title_text='Kms Driven')\n",
    "# fig.update_yaxes(title_text='Price')\n",
    "# fig.show()"
   ]
  },
  {
   "cell_type": "code",
   "execution_count": 15,
   "id": "b36e13b4",
   "metadata": {},
   "outputs": [
    {
     "name": "stdout",
     "output_type": "stream",
     "text": [
      "R^2 score: -7.029414468304563e+16\n"
     ]
    }
   ],
   "source": [
    "# Evaluate model\n",
    "# evaluate the model using R^2 score\n",
    "r2 = r2_score(y_test, y_pred_lr)\n",
    "print(f\"R^2 score: {round(r2, 2)}\")"
   ]
  },
  {
   "cell_type": "code",
   "execution_count": 16,
   "id": "035db4ec",
   "metadata": {},
   "outputs": [
    {
     "name": "stdout",
     "output_type": "stream",
     "text": [
      "MAE as a percentage of the mean of actual values: 3304252145.41%\n",
      "MSE as a percentage of the mean of actual values: 1.33961788721986e+24%\n",
      "RMSE as a percentage of the mean of actual values: 39638788825.3%\n"
     ]
    }
   ],
   "source": [
    "# mae = mean_absolute_error(y_test, y_pred_lr)\n",
    "# print(f\"MAE: {mae}\")\n",
    "\n",
    "# # calculate mean squared error (MSE)\n",
    "# mse = mean_squared_error(y_test, y_pred_lr)\n",
    "# print(f\"MSE: {mse}\")\n",
    "\n",
    "# # calculate root mean squared error (RMSE)\n",
    "# rmse = np.sqrt(mse)\n",
    "# print(f\"RMSE: {rmse}\")\n",
    "\n",
    "\n",
    "# calculate mean absolute error (MAE) as a percentage of the mean of actual values\n",
    "mae = mean_absolute_error(y_test, y_pred_lr)\n",
    "mae_percent = round(mae / np.mean(y_test) * 100, 2)\n",
    "print(f\"MAE as a percentage of the mean of actual values: {mae_percent}%\")\n",
    "\n",
    "# calculate mean squared error (MSE) as a percentage of the mean of actual values\n",
    "mse = mean_squared_error(y_test, y_pred_lr)\n",
    "mse_percent = round(mse / np.mean(y_test) * 100, 2)\n",
    "print(f\"MSE as a percentage of the mean of actual values: {mse_percent}%\")\n",
    "\n",
    "# calculate root mean squared error (RMSE) as a percentage of the mean of actual values\n",
    "rmse = np.sqrt(mse)\n",
    "rmse_percent = round(rmse / np.mean(y_test) * 100, 2)\n",
    "print(f\"RMSE as a percentage of the mean of actual values: {rmse_percent}%\")"
   ]
  },
  {
   "cell_type": "code",
   "execution_count": null,
   "id": "f0595afe",
   "metadata": {},
   "outputs": [],
   "source": []
  },
  {
   "cell_type": "markdown",
   "id": "a8bb8105",
   "metadata": {},
   "source": [
    "# 3 Model: GradientBoostingRegressor"
   ]
  },
  {
   "cell_type": "code",
   "execution_count": null,
   "id": "ac6689f2",
   "metadata": {},
   "outputs": [],
   "source": []
  },
  {
   "cell_type": "code",
   "execution_count": 17,
   "id": "ac0c3649",
   "metadata": {},
   "outputs": [
    {
     "name": "stdout",
     "output_type": "stream",
     "text": [
      "Train R^2 score: 0.93\n",
      "Test R^2 score: 0.88\n",
      "Train MSE: 935946705.4\n",
      "Test MSE: 1902802502.6\n"
     ]
    }
   ],
   "source": [
    "# separate categorical and numerical variables\n",
    "cat_cols = ['power', 'city', 'owner']\n",
    "num_cols = ['age', 'kms_driven']\n",
    "\n",
    "# convert categorical variables to numerical using one-hot encoding\n",
    "X_cat = pd.get_dummies(data[cat_cols], drop_first=True)\n",
    "X_cat.reset_index(drop=True, inplace=True)\n",
    "\n",
    "# scale numerical variables\n",
    "scaler = StandardScaler()\n",
    "X_num = scaler.fit_transform(data[num_cols])\n",
    "X_num = pd.DataFrame(X_num, columns=num_cols)\n",
    "X_num.reset_index(drop=True, inplace=True)\n",
    "\n",
    "with open(\"../Scalers/StandardScaler.pkl\", \"wb\") as file:\n",
    "    pickle.dump(scaler, file)\n",
    "\n",
    "# merge categorical and numerical variables on index\n",
    "X = X_cat.join(X_num)\n",
    "\n",
    "# target variable\n",
    "y = data['price']\n",
    "\n",
    "# split data into train and test sets\n",
    "X_train, X_test, y_train, y_test = train_test_split(X, y, test_size=config['train']['test_size'],random_state=config['train']['random_state'])\n",
    "\n",
    "# initialize a Gradient Boosting Regressor model\n",
    "gb_model = GradientBoostingRegressor(n_estimators=100, random_state=42)\n",
    "with open(\"../Models/GradientBoostingRegressor.pkl\", \"wb\") as file:\n",
    "    pickle.dump(gb_model, file)\n",
    "    \n",
    "# train the model\n",
    "gb_model.fit(X_train, y_train)\n",
    "\n",
    "y_train_pred_gb = gb_model.predict(X_train)\n",
    "y_test_pred_gb = gb_model.predict(X_test)\n",
    "\n",
    "# evaluate the model using R^2 score and mean squared error\n",
    "r2_train = r2_score(y_train, y_train_pred_gb)\n",
    "r2_test = r2_score(y_test, y_test_pred_gb)\n",
    "\n",
    "mse_train = mean_squared_error(y_train, y_train_pred_gb)\n",
    "mse_test = mean_squared_error(y_test, y_test_pred_gb)\n",
    "\n",
    "print(f\"Train R^2 score: {round(r2_train, 2)}\")\n",
    "print(f\"Test R^2 score: {round(r2_test, 2)}\")\n",
    "print(f\"Train MSE: {round(mse_train, 2)}\")\n",
    "print(f\"Test MSE: {round(mse_test, 2)}\")"
   ]
  },
  {
   "cell_type": "code",
   "execution_count": 18,
   "id": "1d7703f2",
   "metadata": {},
   "outputs": [
    {
     "data": {
      "text/html": [
       "<div>\n",
       "<style scoped>\n",
       "    .dataframe tbody tr th:only-of-type {\n",
       "        vertical-align: middle;\n",
       "    }\n",
       "\n",
       "    .dataframe tbody tr th {\n",
       "        vertical-align: top;\n",
       "    }\n",
       "\n",
       "    .dataframe thead th {\n",
       "        text-align: right;\n",
       "    }\n",
       "</style>\n",
       "<table border=\"1\" class=\"dataframe\">\n",
       "  <thead>\n",
       "    <tr style=\"text-align: right;\">\n",
       "      <th></th>\n",
       "      <th>Predictions_gbr</th>\n",
       "    </tr>\n",
       "  </thead>\n",
       "  <tbody>\n",
       "    <tr>\n",
       "      <th>0</th>\n",
       "      <td>1.325977e+05</td>\n",
       "    </tr>\n",
       "    <tr>\n",
       "      <th>1</th>\n",
       "      <td>3.423342e+04</td>\n",
       "    </tr>\n",
       "    <tr>\n",
       "      <th>2</th>\n",
       "      <td>2.072678e+04</td>\n",
       "    </tr>\n",
       "    <tr>\n",
       "      <th>3</th>\n",
       "      <td>6.817948e+04</td>\n",
       "    </tr>\n",
       "    <tr>\n",
       "      <th>4</th>\n",
       "      <td>1.384331e+04</td>\n",
       "    </tr>\n",
       "    <tr>\n",
       "      <th>...</th>\n",
       "      <td>...</td>\n",
       "    </tr>\n",
       "    <tr>\n",
       "      <th>1458</th>\n",
       "      <td>7.283442e+05</td>\n",
       "    </tr>\n",
       "    <tr>\n",
       "      <th>1459</th>\n",
       "      <td>4.252214e+04</td>\n",
       "    </tr>\n",
       "    <tr>\n",
       "      <th>1460</th>\n",
       "      <td>1.165838e+05</td>\n",
       "    </tr>\n",
       "    <tr>\n",
       "      <th>1461</th>\n",
       "      <td>1.075634e+06</td>\n",
       "    </tr>\n",
       "    <tr>\n",
       "      <th>1462</th>\n",
       "      <td>1.998668e+04</td>\n",
       "    </tr>\n",
       "  </tbody>\n",
       "</table>\n",
       "<p>1463 rows × 1 columns</p>\n",
       "</div>"
      ],
      "text/plain": [
       "      Predictions_gbr\n",
       "0        1.325977e+05\n",
       "1        3.423342e+04\n",
       "2        2.072678e+04\n",
       "3        6.817948e+04\n",
       "4        1.384331e+04\n",
       "...               ...\n",
       "1458     7.283442e+05\n",
       "1459     4.252214e+04\n",
       "1460     1.165838e+05\n",
       "1461     1.075634e+06\n",
       "1462     1.998668e+04\n",
       "\n",
       "[1463 rows x 1 columns]"
      ]
     },
     "execution_count": 18,
     "metadata": {},
     "output_type": "execute_result"
    }
   ],
   "source": [
    "y_pred_gbr = gb_model.predict(X_test)\n",
    "y_pred_gbr = pd.DataFrame(y_pred_gbr, columns=['Predictions_gbr'])\n",
    "y_pred_gbr"
   ]
  },
  {
   "cell_type": "code",
   "execution_count": 19,
   "id": "c504a68e",
   "metadata": {},
   "outputs": [],
   "source": [
    "# GradientBoostingRegresso vs y test"
   ]
  },
  {
   "cell_type": "code",
   "execution_count": 20,
   "id": "2514b3c0",
   "metadata": {},
   "outputs": [
    {
     "data": {
      "image/png": "[encoded data removed]",
      "text/plain": [
       "<Figure size 640x480 with 1 Axes>"
      ]
     },
     "metadata": {},
     "output_type": "display_data"
    }
   ],
   "source": [
    "# Create a scatter plot of actual values\n",
    "fig, ax = plt.subplots()\n",
    "ax.plot(y_test, y_test, alpha=0.5, c='blue', label='Actual')\n",
    "\n",
    "# Create a scatter plot of predicted values\n",
    "ax.scatter(y_test, y_pred_gbr, alpha=0.5, c='red', label='Predicted')\n",
    "\n",
    "# Add labels and title\n",
    "plt.title(\"Predicted vs Actual Values\")\n",
    "plt.xlabel(\"Actual Values\")\n",
    "plt.ylabel(\"Predicted Values\")\n",
    "\n",
    "# Add legend\n",
    "plt.legend()\n",
    "plt.show()"
   ]
  },
  {
   "cell_type": "code",
   "execution_count": 21,
   "id": "2650cc5d",
   "metadata": {},
   "outputs": [
    {
     "name": "stdout",
     "output_type": "stream",
     "text": [
      "R^2 score: 0.88\n"
     ]
    }
   ],
   "source": [
    "# Evaluate model\n",
    "# evaluate the model using R^2 score\n",
    "r2 = r2_score(y_test, y_pred_gbr)\n",
    "print(f\"R^2 score: {round(r2, 2)}\")"
   ]
  },
  {
   "cell_type": "code",
   "execution_count": 22,
   "id": "8c24d99d",
   "metadata": {},
   "outputs": [
    {
     "name": "stdout",
     "output_type": "stream",
     "text": [
      "MAE as a percentage of the mean of actual values: 19.0%\n",
      "MSE as a percentage of the mean of actual values: 2231791.0%\n",
      "RMSE as a percentage of the mean of actual values: 51.0%\n"
     ]
    }
   ],
   "source": [
    "# mae = mean_absolute_error(y_test, y_pred_gbr)\n",
    "# print(f\"MAE: {mae}\")\n",
    "\n",
    "# # calculate mean squared error (MSE)\n",
    "# mse = mean_squared_error(y_test, y_pred_gbr)\n",
    "# print(f\"MSE: {mse}\")\n",
    "\n",
    "# # calculate root mean squared error (RMSE)\n",
    "# rmse = np.sqrt(mse)\n",
    "# print(f\"RMSE: {rmse}\")\n",
    "\n",
    "\n",
    "# calculate mean absolute error (MAE) as a percentage of the mean of actual values\n",
    "mae = mean_absolute_error(y_test, y_pred_gbr)\n",
    "mae_percent = round(mae / np.mean(y_test) * 100, 0)\n",
    "print(f\"MAE as a percentage of the mean of actual values: {mae_percent}%\")\n",
    "\n",
    "# calculate mean squared error (MSE) as a percentage of the mean of actual values\n",
    "mse = mean_squared_error(y_test, y_pred_gbr)\n",
    "mse_percent = round(mse / np.mean(y_test) * 100, 0)\n",
    "print(f\"MSE as a percentage of the mean of actual values: {mse_percent}%\")\n",
    "\n",
    "# calculate root mean squared error (RMSE) as a percentage of the mean of actual values\n",
    "rmse = np.sqrt(mse)\n",
    "rmse_percent = round(rmse / np.mean(y_test) * 100, 0)\n",
    "print(f\"RMSE as a percentage of the mean of actual values: {rmse_percent}%\")"
   ]
  },
  {
   "cell_type": "code",
   "execution_count": null,
   "id": "1fe183a5",
   "metadata": {},
   "outputs": [],
   "source": []
  },
  {
   "cell_type": "code",
   "execution_count": null,
   "id": "7d7a88a4",
   "metadata": {},
   "outputs": [],
   "source": []
  },
  {
   "cell_type": "code",
   "execution_count": null,
   "id": "c4425025",
   "metadata": {},
   "outputs": [],
   "source": []
  }
 ],
 "metadata": {
  "kernelspec": {
   "display_name": "Final_project",
   "language": "python",
   "name": "final_project"
  },
  "language_info": {
   "codemirror_mode": {
    "name": "ipython",
    "version": 3
   },
   "file_extension": ".py",
   "mimetype": "text/x-python",
   "name": "python",
   "nbconvert_exporter": "python",
   "pygments_lexer": "ipython3",
   "version": "3.11.0"
  }
 },
 "nbformat": 4,
 "nbformat_minor": 5
}
