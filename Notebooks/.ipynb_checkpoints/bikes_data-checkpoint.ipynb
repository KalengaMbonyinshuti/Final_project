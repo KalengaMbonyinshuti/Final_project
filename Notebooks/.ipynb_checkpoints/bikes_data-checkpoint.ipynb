{
 "cells": [
  {
   "cell_type": "code",
   "execution_count": 1,
   "id": "c0043bf6",
   "metadata": {},
   "outputs": [
    {
     "ename": "ModuleNotFoundError",
     "evalue": "No module named 'plotly'",
     "output_type": "error",
     "traceback": [
      "\u001b[1;31m---------------------------------------------------------------------------\u001b[0m",
      "\u001b[1;31mModuleNotFoundError\u001b[0m                       Traceback (most recent call last)",
      "Cell \u001b[1;32mIn[1], line 12\u001b[0m\n\u001b[0;32m     10\u001b[0m \u001b[38;5;28;01mfrom\u001b[39;00m \u001b[38;5;21;01msklearn\u001b[39;00m\u001b[38;5;21;01m.\u001b[39;00m\u001b[38;5;21;01mensemble\u001b[39;00m \u001b[38;5;28;01mimport\u001b[39;00m GradientBoostingRegressor\n\u001b[0;32m     11\u001b[0m \u001b[38;5;28;01mfrom\u001b[39;00m \u001b[38;5;21;01msklearn\u001b[39;00m\u001b[38;5;21;01m.\u001b[39;00m\u001b[38;5;21;01mlinear_model\u001b[39;00m \u001b[38;5;28;01mimport\u001b[39;00m LinearRegression\n\u001b[1;32m---> 12\u001b[0m \u001b[38;5;28;01mimport\u001b[39;00m \u001b[38;5;21;01mplotly\u001b[39;00m\u001b[38;5;21;01m.\u001b[39;00m\u001b[38;5;21;01mexpress\u001b[39;00m \u001b[38;5;28;01mas\u001b[39;00m \u001b[38;5;21;01mpx\u001b[39;00m\n",
      "\u001b[1;31mModuleNotFoundError\u001b[0m: No module named 'plotly'"
     ]
    }
   ],
   "source": [
    "import numpy as np\n",
    "import pandas as pd\n",
    "import matplotlib.pyplot as plt\n",
    "import seaborn as sns\n",
    "from sklearn.ensemble import RandomForestRegressor\n",
    "from sklearn.preprocessing import LabelEncoder, StandardScaler\n",
    "from sklearn.model_selection import train_test_split\n",
    "from sklearn.metrics import (mean_squared_error, r2_score, confusion_matrix,\n",
    "cohen_kappa_score, accuracy_score, mean_absolute_error)\n",
    "from sklearn.ensemble import GradientBoostingRegressor\n",
    "from sklearn.linear_model import LinearRegression\n",
    "import plotly.express as px"
   ]
  },
  {
   "cell_type": "code",
   "execution_count": null,
   "id": "24c70441",
   "metadata": {},
   "outputs": [],
   "source": [
    "Used_biked=pd.read_csv('../data/RAW/Used_Bikes.csv')\n",
    "Used_biked"
   ]
  },
  {
   "cell_type": "code",
   "execution_count": null,
   "id": "a2606ee9",
   "metadata": {},
   "outputs": [],
   "source": [
    "# drop duplicates based on all columns\n",
    "Used_biked.drop_duplicates(inplace=True)"
   ]
  },
  {
   "cell_type": "code",
   "execution_count": null,
   "id": "bae88b3b",
   "metadata": {},
   "outputs": [],
   "source": [
    "Used_biked.columns"
   ]
  },
  {
   "cell_type": "code",
   "execution_count": null,
   "id": "010e0f9d",
   "metadata": {
    "scrolled": false
   },
   "outputs": [],
   "source": [
    "Used_biked['brand'].unique()"
   ]
  },
  {
   "cell_type": "code",
   "execution_count": null,
   "id": "d22441de",
   "metadata": {},
   "outputs": [],
   "source": [
    "data=Used_biked\n",
    "# Replace 'BrandName' with the name of your brand column and 'Price' with the name of your price column\n",
    "brand_counts = pd.DataFrame(data[['brand']].value_counts()).rename(columns={0:'Brand_counts'})\n",
    "brand_mean_prices = pd.DataFrame(data.groupby('brand')['price'].mean())\n",
    "\n",
    "\n",
    "# Replace 'YourBrandName' with the name of your brand\n",
    "your_brand_counts = brand_counts['Brand_counts']\n",
    "# your_brand_counts\n",
    "your_brand_mean_price = brand_mean_prices['price']\n",
    "# your_brand_mean_price\n",
    "# Print the counts and mean price for your brand\n",
    "print('Number of products with your brand:', your_brand_counts)\n",
    "print('Mean price of products with your brand:', your_brand_mean_price)\n",
    "\n",
    "# Plot the brand counts\n",
    "brand_counts.plot(kind='bar', title='Product Count by Brand')\n",
    "\n",
    "# Show the plot\n",
    "plt.show()\n"
   ]
  },
  {
   "cell_type": "code",
   "execution_count": null,
   "id": "0b6b276b",
   "metadata": {
    "scrolled": true
   },
   "outputs": [],
   "source": [
    "your_brand_counts=pd.DataFrame(your_brand_counts)\n",
    "your_brand_counts.reset_index(inplace=True)\n",
    "your_brand_counts"
   ]
  },
  {
   "cell_type": "code",
   "execution_count": null,
   "id": "5fe52661",
   "metadata": {},
   "outputs": [],
   "source": [
    "your_brand_mean_price=pd.DataFrame(your_brand_mean_price)\n",
    "your_brand_mean_price.reset_index(inplace=True)\n",
    "your_brand_mean_price"
   ]
  },
  {
   "cell_type": "code",
   "execution_count": null,
   "id": "80a6d563",
   "metadata": {},
   "outputs": [],
   "source": [
    "brand_pricing_counts=your_brand_mean_price.merge(your_brand_counts)\n",
    "brand_pricing_counts"
   ]
  },
  {
   "cell_type": "code",
   "execution_count": null,
   "id": "ae07f37f",
   "metadata": {
    "scrolled": true
   },
   "outputs": [],
   "source": [
    "# Compute the correlation matrix\n",
    "corr_matrix = Used_biked.corr()\n",
    "\n",
    "# Create the heatmap using seaborn\n",
    "sns.heatmap(corr_matrix, annot=True, cmap='coolwarm', vmin=-1, vmax=1)\n",
    "\n",
    "# Show the plot\n",
    "plt.show()"
   ]
  },
  {
   "cell_type": "markdown",
   "id": "0ecd2a07",
   "metadata": {},
   "source": [
    "# Show price changes based on power"
   ]
  },
  {
   "cell_type": "code",
   "execution_count": null,
   "id": "995070b1",
   "metadata": {},
   "outputs": [],
   "source": [
    "grouped_power=Used_biked.groupby(['power', 'kms_driven', 'age'])[['price', 'city']].mean()\n",
    "grouped_power.reset_index(inplace=True)\n",
    "grouped_power.sort_values(by='price', ascending=False).head(10)"
   ]
  },
  {
   "cell_type": "code",
   "execution_count": null,
   "id": "11f27bdc",
   "metadata": {
    "scrolled": true
   },
   "outputs": [],
   "source": [
    "plt.scatter(x=grouped_power['power'], y=grouped_power['price'])\n",
    "plt.xlabel('power')\n",
    "plt.ylabel('Price')\n",
    "plt.title('Average Price by Power')\n",
    "plt.show()"
   ]
  },
  {
   "cell_type": "code",
   "execution_count": null,
   "id": "cf4ac5ef",
   "metadata": {
    "scrolled": false
   },
   "outputs": [],
   "source": [
    "fig = px.scatter(grouped_power, x='power', y='price', title='Average Price by Power')\n",
    "fig.update_xaxes(title_text='power')\n",
    "fig.update_yaxes(title_text='Price')\n",
    "fig.show()"
   ]
  },
  {
   "cell_type": "code",
   "execution_count": null,
   "id": "32f6712f",
   "metadata": {},
   "outputs": [],
   "source": [
    "outliers_power = Used_biked[~Used_biked['power'].isin([107, 1700])]\n",
    "outliers_power"
   ]
  },
  {
   "cell_type": "code",
   "execution_count": null,
   "id": "7c567070",
   "metadata": {},
   "outputs": [],
   "source": [
    "grouped_power=outliers_power.groupby(['power', 'kms_driven', 'age'])[['price', 'city']].mean()\n",
    "grouped_power.reset_index(inplace=True)\n",
    "grouped_power.sort_values(by='price', ascending=False).head(10)"
   ]
  },
  {
   "cell_type": "code",
   "execution_count": null,
   "id": "40460575",
   "metadata": {},
   "outputs": [],
   "source": [
    "fig = px.scatter(outliers_power, x='power', y='price', title='Average Price by Power')\n",
    "fig.update_xaxes(title_text='power')\n",
    "fig.update_yaxes(title_text='Price')\n",
    "fig.show()"
   ]
  },
  {
   "cell_type": "markdown",
   "id": "47316235",
   "metadata": {},
   "source": [
    "# Show price changes based on age"
   ]
  },
  {
   "cell_type": "code",
   "execution_count": null,
   "id": "c772fb54",
   "metadata": {},
   "outputs": [],
   "source": [
    "grouped_age=outliers_power.groupby(['age'])[['price']].mean()\n",
    "grouped_age.reset_index(inplace=True)\n",
    "grouped_age"
   ]
  },
  {
   "cell_type": "code",
   "execution_count": null,
   "id": "17cb2bd2",
   "metadata": {},
   "outputs": [],
   "source": [
    "plt.scatter(x=grouped_age['age'], y=grouped_age['price'])\n",
    "plt.xlabel('age')\n",
    "plt.ylabel('Price')\n",
    "plt.title('Average Price by age')\n",
    "plt.show()"
   ]
  },
  {
   "cell_type": "code",
   "execution_count": null,
   "id": "d5edd44f",
   "metadata": {},
   "outputs": [],
   "source": [
    "grouped_age=Used_biked.groupby(['age'])[['price']].mean()\n",
    "grouped_age.reset_index(inplace=True)\n",
    "grouped_age"
   ]
  },
  {
   "cell_type": "code",
   "execution_count": null,
   "id": "f845a44b",
   "metadata": {},
   "outputs": [],
   "source": [
    "fig = px.scatter(grouped_age, x='age', y='price', title='Average Price by Age')\n",
    "fig.update_xaxes(title_text='Age')\n",
    "fig.update_yaxes(title_text='Price')\n",
    "fig.show()"
   ]
  },
  {
   "cell_type": "code",
   "execution_count": null,
   "id": "da504c48",
   "metadata": {},
   "outputs": [],
   "source": [
    "outliers_age=Used_biked[(Used_biked['age'] != 63) & (Used_biked['age'] != 1)] \n",
    "outliers_age                  \n",
    "# & (Used_biked['price'].eq('299.8k'))]\n"
   ]
  },
  {
   "cell_type": "code",
   "execution_count": null,
   "id": "186d4ef0",
   "metadata": {},
   "outputs": [],
   "source": [
    "grouped_age=Used_biked.groupby(['age'])[['price']].mean()\n",
    "grouped_age.reset_index(inplace=True)\n",
    "grouped_age"
   ]
  },
  {
   "cell_type": "code",
   "execution_count": null,
   "id": "e577bbf3",
   "metadata": {},
   "outputs": [],
   "source": [
    "fig = px.scatter(grouped_age, x='age', y='price', title='Average Price by Age')\n",
    "fig.update_xaxes(title_text='Age')\n",
    "fig.update_yaxes(title_text='Price')\n",
    "fig.show()"
   ]
  },
  {
   "cell_type": "markdown",
   "id": "c19ab9da",
   "metadata": {},
   "source": [
    "# Show price changes based on km_driven"
   ]
  },
  {
   "cell_type": "code",
   "execution_count": null,
   "id": "a3cc54af",
   "metadata": {},
   "outputs": [],
   "source": [
    "grouped_km=Used_biked.groupby(['kms_driven'])[['price']].mean()\n",
    "grouped_km.reset_index(inplace=True)\n",
    "grouped_km"
   ]
  },
  {
   "cell_type": "code",
   "execution_count": null,
   "id": "12c29460",
   "metadata": {},
   "outputs": [],
   "source": [
    "plt.scatter(x=grouped_km['kms_driven'], y=grouped_km['price'])\n",
    "plt.xlabel('kms_driven')\n",
    "plt.ylabel('Price')\n",
    "plt.title('Average Price by kms_driven')\n",
    "plt.show()"
   ]
  },
  {
   "cell_type": "code",
   "execution_count": null,
   "id": "0d96ef15",
   "metadata": {},
   "outputs": [],
   "source": [
    "fig = px.scatter(grouped_km, x='kms_driven', y='price', title='Average Price by Kms Driven')\n",
    "fig.update_xaxes(title_text='Kms Driven')\n",
    "fig.update_yaxes(title_text='Price')\n",
    "fig.show()"
   ]
  },
  {
   "cell_type": "markdown",
   "id": "31999a66",
   "metadata": {},
   "source": [
    "# Top 10 cities that generated a lot of income compared to others"
   ]
  },
  {
   "cell_type": "code",
   "execution_count": null,
   "id": "269fdb19",
   "metadata": {},
   "outputs": [],
   "source": [
    "city_high_income=Used_biked.groupby('city')[['price']].mean().sort_values(by='price', ascending=False).head(10)\n",
    "city_high_income.reset_index(inplace=True) \n",
    "\n",
    "# Now you can use city_high_income to plot the bar chart\n",
    "city_high_income.plot(x='city', y='price', kind='bar')\n"
   ]
  },
  {
   "cell_type": "markdown",
   "id": "c094fa2b",
   "metadata": {},
   "source": [
    "# The most sold ownership type"
   ]
  },
  {
   "cell_type": "code",
   "execution_count": null,
   "id": "24ec8aae",
   "metadata": {},
   "outputs": [],
   "source": [
    "pd.DataFrame(Used_biked[['owner']].value_counts()).reset_index().rename(columns={0: 'counts'})"
   ]
  },
  {
   "cell_type": "code",
   "execution_count": null,
   "id": "e0cedb74",
   "metadata": {},
   "outputs": [],
   "source": [
    "ownership_income=Used_biked.groupby('owner')[['price']].mean().sort_values(by='price', ascending=False).head(10)\n",
    "ownership_income.reset_index(inplace=True)\n",
    "ownership_income.round(2)"
   ]
  },
  {
   "cell_type": "code",
   "execution_count": null,
   "id": "1d1a8432",
   "metadata": {},
   "outputs": [],
   "source": [
    "ownership_count=Used_biked.groupby('owner')[['price']].count().sort_values(by='price', ascending=False).head(10)\n",
    "ownership_count.reset_index(inplace=True) \n",
    "ownership_count"
   ]
  },
  {
   "cell_type": "code",
   "execution_count": null,
   "id": "2138bdbf",
   "metadata": {},
   "outputs": [],
   "source": [
    "# Now you can use city_high_income to plot the bar chart\n",
    "ownership_income.plot(x='owner', y='price', kind='bar')\n",
    "ownership_count.plot(x='owner', y='price', kind='bar')"
   ]
  },
  {
   "cell_type": "code",
   "execution_count": null,
   "id": "a319023e",
   "metadata": {},
   "outputs": [],
   "source": [
    "Used_biked.to_csv('../data/CLEAN/final_data.csv', index=False)"
   ]
  },
  {
   "cell_type": "code",
   "execution_count": null,
   "id": "c9feb0b6",
   "metadata": {},
   "outputs": [],
   "source": []
  }
 ],
 "metadata": {
  "kernelspec": {
   "display_name": "Final_project",
   "language": "python",
   "name": "final_project"
  },
  "language_info": {
   "codemirror_mode": {
    "name": "ipython",
    "version": 3
   },
   "file_extension": ".py",
   "mimetype": "text/x-python",
   "name": "python",
   "nbconvert_exporter": "python",
   "pygments_lexer": "ipython3",
   "version": "3.11.0"
  }
 },
 "nbformat": 4,
 "nbformat_minor": 5
}
